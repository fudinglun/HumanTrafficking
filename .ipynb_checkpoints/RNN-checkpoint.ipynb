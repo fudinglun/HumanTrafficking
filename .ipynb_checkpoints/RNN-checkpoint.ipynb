{
 "cells": [
  {
   "cell_type": "code",
   "execution_count": 166,
   "metadata": {
    "collapsed": true
   },
   "outputs": [],
   "source": [
    "import pandas as pd\n",
    "import csv\n",
    "import numpy as np\n",
    "import torch\n",
    "import torch.nn as nn\n",
    "import torch.optim as optim\n",
    "from torch.autograd import Variable\n",
    "import pdb\n",
    "import nltk\n",
    "import string\n",
    "from nltk.corpus import stopwords\n",
    "from random import shuffle"
   ]
  },
  {
   "cell_type": "code",
   "execution_count": 125,
   "metadata": {
    "collapsed": true
   },
   "outputs": [],
   "source": [
    "def clean_list_of_word(words, remove_stopping_word=False):\n",
    "    \"\"\"remove punctuations\"\"\"\n",
    "    translator = str.maketrans('', '', string.punctuation)\n",
    "    result = list(map(lambda x: x.translate(translator) , words))\n",
    "    \n",
    "    \"\"\"remove stopping word\"\"\"\n",
    "    if remove_stopping_word:\n",
    "        result = [word for word in result if word not in stopwords.words('english')]\n",
    "    return result"
   ]
  },
  {
   "cell_type": "code",
   "execution_count": 2,
   "metadata": {
    "collapsed": true
   },
   "outputs": [],
   "source": [
    "words = pd.read_table(\"../glove.6B/glove.6B.100d.txt\", sep=\" \", index_col=0, header=None, quoting=csv.QUOTE_NONE)\n",
    "def vec(w):\n",
    "  return words.loc[w].as_matrix()"
   ]
  },
  {
   "cell_type": "code",
   "execution_count": 3,
   "metadata": {
    "collapsed": true
   },
   "outputs": [],
   "source": [
    "sent1 = [\"Today\", \"good\", \"day\"]\n",
    "sent2 = [\"I\", \"call\", \"you\", \"tomorrow\", \"for\", \"dinner\"]\n",
    "sent3 = [\"This\",\"test\"]"
   ]
  },
  {
   "cell_type": "code",
   "execution_count": 4,
   "metadata": {
    "collapsed": true
   },
   "outputs": [],
   "source": [
    "def get_single_sentence_embedding(sent):\n",
    "    result = []\n",
    "    for item in sent:\n",
    "        try:\n",
    "            result.append(np.array(vec(item)))\n",
    "        except:\n",
    "            result.append(np.array(vec(\",\")))\n",
    "            continue\n",
    "    return np.array(result)      "
   ]
  },
  {
   "cell_type": "code",
   "execution_count": 5,
   "metadata": {
    "collapsed": true
   },
   "outputs": [],
   "source": [
    "def get_batch_embedding(sent_list):\n",
    "    max_len = max(list(map(len, sent_list)))\n",
    "    result = []\n",
    "    for sent in sent_list:\n",
    "        result.append(get_single_sentence_embedding(sent + [\".\"]*(max_len - len(sent))))\n",
    "    return np.array(result)    "
   ]
  },
  {
   "cell_type": "code",
   "execution_count": 6,
   "metadata": {},
   "outputs": [
    {
     "data": {
      "text/plain": [
       "(3, 6, 100)"
      ]
     },
     "execution_count": 6,
     "metadata": {},
     "output_type": "execute_result"
    }
   ],
   "source": [
    "get_batch_embedding([sent1, sent2, sent3]).shape"
   ]
  },
  {
   "cell_type": "code",
   "execution_count": null,
   "metadata": {
    "collapsed": true
   },
   "outputs": [],
   "source": []
  },
  {
   "cell_type": "code",
   "execution_count": 102,
   "metadata": {
    "collapsed": true
   },
   "outputs": [],
   "source": [
    "class RNNModel(nn.Module):\n",
    "    def __init__(self, input_dimension, hidden_dimension, batch_size):\n",
    "        super(RNNModel, self).__init__()\n",
    "        self.input_dim = input_dimension\n",
    "        self.hidden_dim = hidden_dimension\n",
    "        self.batch_size = batch_size\n",
    "        \n",
    "        self.lstm = nn.LSTM(input_dimension, hidden_dimension, bidirectional=False)\n",
    "        self.fc = nn.Linear(hidden_dimension, 1)\n",
    "        self.sigmoid = nn.Sigmoid()\n",
    "    \n",
    "    def forward(self, x, hidden, c):\n",
    "        x = x.transpose(0, 1)\n",
    "        len_seq = len(x)\n",
    "        outputs, last = self.lstm(x, (hidden, c))\n",
    "        output = self.fc(last[0])\n",
    "        output = self.sigmoid(output)\n",
    "        return output.squeeze()\n",
    "           \n",
    "    def init_hidden(self):\n",
    "        h0 = Variable(torch.randn(1, self.batch_size, self.hidden_dim))\n",
    "        c0 = Variable(torch.randn(1, self.batch_size, self.hidden_dim))\n",
    "        return h0, c0"
   ]
  },
  {
   "cell_type": "code",
   "execution_count": 103,
   "metadata": {
    "collapsed": true
   },
   "outputs": [],
   "source": [
    "model = RNNModel(100, 100, 3)"
   ]
  },
  {
   "cell_type": "code",
   "execution_count": 104,
   "metadata": {
    "collapsed": true
   },
   "outputs": [],
   "source": [
    "x = Variable(torch.from_numpy(get_batch_embedding([sent1, sent2, sent3])).float())"
   ]
  },
  {
   "cell_type": "code",
   "execution_count": 105,
   "metadata": {
    "collapsed": true
   },
   "outputs": [],
   "source": [
    "hidden, c_t = model.init_hidden()"
   ]
  },
  {
   "cell_type": "code",
   "execution_count": 106,
   "metadata": {},
   "outputs": [],
   "source": [
    "output = model(x, hidden, c_t)"
   ]
  },
  {
   "cell_type": "code",
   "execution_count": 117,
   "metadata": {},
   "outputs": [],
   "source": [
    "# def train(model):\n",
    "#     optimizer = optim.Adam(model.parameters(), lr=0.05)\n",
    "#     criteria = nn.BCELoss()\n",
    "    \n",
    "#     return"
   ]
  },
  {
   "cell_type": "code",
   "execution_count": 126,
   "metadata": {},
   "outputs": [],
   "source": [
    "df = pd.read_csv('../all_ter_data_dropna.csv')"
   ]
  },
  {
   "cell_type": "code",
   "execution_count": 153,
   "metadata": {},
   "outputs": [],
   "source": [
    "one_list = list(df.loc[df['ht'] == 1.0]['Unnamed: 0'])"
   ]
  },
  {
   "cell_type": "code",
   "execution_count": 161,
   "metadata": {},
   "outputs": [],
   "source": [
    "zero_list = list(df.loc[df['ht'] == 0.0]['Unnamed: 0'])[:16082]"
   ]
  },
  {
   "cell_type": "code",
   "execution_count": 163,
   "metadata": {},
   "outputs": [],
   "source": [
    "total_list = one_list + zero_list"
   ]
  },
  {
   "cell_type": "code",
   "execution_count": 167,
   "metadata": {},
   "outputs": [],
   "source": [
    "shuffle(total_list)"
   ]
  },
  {
   "cell_type": "code",
   "execution_count": 174,
   "metadata": {},
   "outputs": [
    {
     "name": "stdout",
     "output_type": "stream",
     "text": [
      "(5, 473, 100)\n",
      "[0, 1, 0, 1, 1]\n"
     ]
    }
   ],
   "source": [
    "for i in range(800):\n",
    "    ids = total_list[i*5:(i+1)*5]\n",
    "    x_batch = []\n",
    "    y_batch = []\n",
    "    for index in ids:\n",
    "        row = df.iloc[index]\n",
    "        label = int(float(row[1]))\n",
    "        detail = clean_list_of_word(row[3].split(' '), True)\n",
    "        x_batch.append(detail)\n",
    "        y_batch.append(label)\n",
    "    x_batch = get_batch_embedding(x_batch)\n",
    "    \n",
    "    break"
   ]
  },
  {
   "cell_type": "code",
   "execution_count": null,
   "metadata": {
    "collapsed": true
   },
   "outputs": [],
   "source": []
  }
 ],
 "metadata": {
  "kernelspec": {
   "display_name": "Python (3.6)",
   "language": "python",
   "name": "3point6"
  },
  "language_info": {
   "codemirror_mode": {
    "name": "ipython",
    "version": 3
   },
   "file_extension": ".py",
   "mimetype": "text/x-python",
   "name": "python",
   "nbconvert_exporter": "python",
   "pygments_lexer": "ipython3",
   "version": "3.6.2"
  }
 },
 "nbformat": 4,
 "nbformat_minor": 2
}
