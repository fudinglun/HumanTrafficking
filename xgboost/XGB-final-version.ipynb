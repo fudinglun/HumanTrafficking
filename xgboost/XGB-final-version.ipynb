{
 "cells": [
  {
   "cell_type": "code",
   "execution_count": 1,
   "metadata": {},
   "outputs": [
    {
     "name": "stderr",
     "output_type": "stream",
     "text": [
      "/Users/sunny/anaconda/lib/python3.6/site-packages/sklearn/cross_validation.py:41: DeprecationWarning: This module was deprecated in version 0.18 in favor of the model_selection module into which all the refactored classes and functions are moved. Also note that the interface of the new CV iterators are different from that of this module. This module will be removed in 0.20.\n",
      "  \"This module will be removed in 0.20.\", DeprecationWarning)\n",
      "/Users/sunny/anaconda/lib/python3.6/site-packages/sklearn/grid_search.py:42: DeprecationWarning: This module was deprecated in version 0.18 in favor of the model_selection module into which all the refactored classes and functions are moved. This module will be removed in 0.20.\n",
      "  DeprecationWarning)\n"
     ]
    }
   ],
   "source": [
    "import pandas as pd\n",
    "import numpy as np\n",
    "import nltk\n",
    "from nltk.corpus import stopwords\n",
    "from sklearn.feature_extraction.text import CountVectorizer\n",
    "from sklearn.feature_extraction.text import TfidfVectorizer\n",
    "from sklearn.ensemble import GradientBoostingClassifier as GB\n",
    "from sklearn.ensemble import AdaBoostClassifier as Ada\n",
    "from sklearn.cross_validation import train_test_split\n",
    "import xgboost as xgb\n",
    "from xgboost.sklearn import XGBClassifier\n",
    "from sklearn.grid_search import GridSearchCV\n",
    "import matplotlib.pyplot as plt"
   ]
  },
  {
   "cell_type": "code",
   "execution_count": 3,
   "metadata": {},
   "outputs": [
    {
     "name": "stderr",
     "output_type": "stream",
     "text": [
      "/Users/sunny/anaconda/lib/python3.6/site-packages/IPython/core/interactiveshell.py:2717: DtypeWarning: Columns (25,27,40,41,43,44,45,46,47,75,76,78,79,87,89,90,91,92,110) have mixed types. Specify dtype option on import or set low_memory=False.\n",
      "  interactivity=interactivity, compiler=compiler, result=result)\n"
     ]
    }
   ],
   "source": [
    "#load data\n",
    "df = pd.read_csv(\"all_ter_data.csv\")"
   ]
  },
  {
   "cell_type": "code",
   "execution_count": 6,
   "metadata": {
    "collapsed": true
   },
   "outputs": [],
   "source": [
    "pd.set_option('max_colwidth',1200)\n",
    "#remove the nulls, provider_id, reviewer_id\n",
    "df = df[~pd.isnull(df.provider_id)]\n",
    "#fill in zeros for the null in ht column\n",
    "df['ht'].fillna(0,inplace = True)\n",
    "df['ht'] = df['ht'].astype('bool')\n",
    "v = df[['provider_id','general_details','juicy_details','ht']]\n",
    "del df\n",
    "#fill in the Na's in general and juicy details to be ''\n",
    "v['general_details'].fillna(\"\",inplace = True)\n",
    "v['juicy_details'].fillna(\"\",inplace = True)\n",
    "#vectorizer using binary \n",
    "#stopWords = set(stopwords.words('english'))"
   ]
  },
  {
   "cell_type": "code",
   "execution_count": 8,
   "metadata": {
    "collapsed": true
   },
   "outputs": [],
   "source": [
    "#aggregate by reviewer_name\n",
    "#v.provider_id.unique().size\n",
    "vgroup = v.groupby('provider_id')\n",
    "vlabel = vgroup['ht'].agg(['any'])\n",
    "vdetail = vgroup['general_details'].apply(lambda x: ' '.join(x))\n",
    "vjuicydetail = vgroup['juicy_details'].apply(lambda x: ' '.join(x))\n",
    "vgroupinfo = pd.concat([vlabel,vdetail,vjuicydetail],1)\n",
    "vgroupinfo['ht'] = vgroupinfo['any']\n",
    "vgroupinfo['detail'] = vgroupinfo['general_details'] + vgroupinfo['juicy_details']\n",
    "vgroupinfo = vgroupinfo.drop(['general_details', 'juicy_details','any'],axis = 1)"
   ]
  },
  {
   "cell_type": "code",
   "execution_count": 9,
   "metadata": {
    "scrolled": true
   },
   "outputs": [
    {
     "data": {
      "text/html": [
       "<div>\n",
       "<style>\n",
       "    .dataframe thead tr:only-child th {\n",
       "        text-align: right;\n",
       "    }\n",
       "\n",
       "    .dataframe thead th {\n",
       "        text-align: left;\n",
       "    }\n",
       "\n",
       "    .dataframe tbody tr th {\n",
       "        vertical-align: top;\n",
       "    }\n",
       "</style>\n",
       "<table border=\"1\" class=\"dataframe\">\n",
       "  <thead>\n",
       "    <tr style=\"text-align: right;\">\n",
       "      <th></th>\n",
       "      <th>ht</th>\n",
       "      <th>detail</th>\n",
       "    </tr>\n",
       "    <tr>\n",
       "      <th>provider_id</th>\n",
       "      <th></th>\n",
       "      <th></th>\n",
       "    </tr>\n",
       "  </thead>\n",
       "  <tbody>\n",
       "    <tr>\n",
       "      <th>1.0</th>\n",
       "      <td>False</td>\n",
       "      <td>First she asked for more money. Then just danc...</td>\n",
       "    </tr>\n",
       "    <tr>\n",
       "      <th>3.0</th>\n",
       "      <td>False</td>\n",
       "      <td>Wendy is older than most people in the busines...</td>\n",
       "    </tr>\n",
       "    <tr>\n",
       "      <th>4.0</th>\n",
       "      <td>False</td>\n",
       "      <td>Nice looking \"natural\" girl. She provided what...</td>\n",
       "    </tr>\n",
       "    <tr>\n",
       "      <th>6.0</th>\n",
       "      <td>False</td>\n",
       "      <td>She is a very nice girl. The picture I don't t...</td>\n",
       "    </tr>\n",
       "    <tr>\n",
       "      <th>7.0</th>\n",
       "      <td>True</td>\n",
       "      <td>Madison provides a nice relaxing atmosphere wi...</td>\n",
       "    </tr>\n",
       "    <tr>\n",
       "      <th>8.0</th>\n",
       "      <td>False</td>\n",
       "      <td>I arrived in an average looking appartment wit...</td>\n",
       "    </tr>\n",
       "    <tr>\n",
       "      <th>9.0</th>\n",
       "      <td>False</td>\n",
       "      <td>She could have been more into what she was doi...</td>\n",
       "    </tr>\n",
       "    <tr>\n",
       "      <th>12.0</th>\n",
       "      <td>False</td>\n",
       "      <td>She was nice but she seemed like she was a lit...</td>\n",
       "    </tr>\n",
       "    <tr>\n",
       "      <th>13.0</th>\n",
       "      <td>True</td>\n",
       "      <td>Had seen some mixed reviews, but my sense was ...</td>\n",
       "    </tr>\n",
       "    <tr>\n",
       "      <th>14.0</th>\n",
       "      <td>False</td>\n",
       "      <td>I went to her place near Hollywood. I was plea...</td>\n",
       "    </tr>\n",
       "    <tr>\n",
       "      <th>18.0</th>\n",
       "      <td>False</td>\n",
       "      <td>This girl is gourgeous! We spent some time tal...</td>\n",
       "    </tr>\n",
       "    <tr>\n",
       "      <th>20.0</th>\n",
       "      <td>False</td>\n",
       "      <td>After two visits that started on time and ende...</td>\n",
       "    </tr>\n",
       "    <tr>\n",
       "      <th>21.0</th>\n",
       "      <td>True</td>\n",
       "      <td>Not my first time with Nikki and certainly not...</td>\n",
       "    </tr>\n",
       "    <tr>\n",
       "      <th>22.0</th>\n",
       "      <td>False</td>\n",
       "      <td>I decided to see Sydney after seeing her ad on...</td>\n",
       "    </tr>\n",
       "    <tr>\n",
       "      <th>23.0</th>\n",
       "      <td>False</td>\n",
       "      <td>cute girl with standard fbsm service. She was ...</td>\n",
       "    </tr>\n",
       "    <tr>\n",
       "      <th>26.0</th>\n",
       "      <td>False</td>\n",
       "      <td>House should be condemed,Uses Massage table, S...</td>\n",
       "    </tr>\n",
       "    <tr>\n",
       "      <th>28.0</th>\n",
       "      <td>False</td>\n",
       "      <td>Mixed review here. Says she's 19 and really se...</td>\n",
       "    </tr>\n",
       "    <tr>\n",
       "      <th>29.0</th>\n",
       "      <td>True</td>\n",
       "      <td>She is quite pleasant, very accommidating and ...</td>\n",
       "    </tr>\n",
       "    <tr>\n",
       "      <th>30.0</th>\n",
       "      <td>False</td>\n",
       "      <td>I used to see Angela before she moved to Hillc...</td>\n",
       "    </tr>\n",
       "    <tr>\n",
       "      <th>32.0</th>\n",
       "      <td>False</td>\n",
       "      <td>Franchesca is a nice person, but she is a litt...</td>\n",
       "    </tr>\n",
       "    <tr>\n",
       "      <th>34.0</th>\n",
       "      <td>False</td>\n",
       "      <td>Decent looking woman. Nice massage but nothing...</td>\n",
       "    </tr>\n",
       "    <tr>\n",
       "      <th>36.0</th>\n",
       "      <td>False</td>\n",
       "      <td>Total rippoff scam. She lies to you and tells ...</td>\n",
       "    </tr>\n",
       "    <tr>\n",
       "      <th>39.0</th>\n",
       "      <td>False</td>\n",
       "      <td>I was struck by Rachel's pictures on her Eros ...</td>\n",
       "    </tr>\n",
       "    <tr>\n",
       "      <th>41.0</th>\n",
       "      <td>False</td>\n",
       "      <td>Pictures are slightly different but she is bea...</td>\n",
       "    </tr>\n",
       "    <tr>\n",
       "      <th>42.0</th>\n",
       "      <td>True</td>\n",
       "      <td>we started out just talking for a while and th...</td>\n",
       "    </tr>\n",
       "    <tr>\n",
       "      <th>43.0</th>\n",
       "      <td>False</td>\n",
       "      <td>Nice Westwood location, pictures are her but o...</td>\n",
       "    </tr>\n",
       "    <tr>\n",
       "      <th>44.0</th>\n",
       "      <td>False</td>\n",
       "      <td>No messing around with Jackie, straight to the...</td>\n",
       "    </tr>\n",
       "    <tr>\n",
       "      <th>45.0</th>\n",
       "      <td>False</td>\n",
       "      <td>This lady is a complete rip off. Don't waiste ...</td>\n",
       "    </tr>\n",
       "    <tr>\n",
       "      <th>46.0</th>\n",
       "      <td>True</td>\n",
       "      <td>This is another Thatmall girl whose photos wer...</td>\n",
       "    </tr>\n",
       "    <tr>\n",
       "      <th>47.0</th>\n",
       "      <td>False</td>\n",
       "      <td>Ashley sets up the date with email and does no...</td>\n",
       "    </tr>\n",
       "    <tr>\n",
       "      <th>...</th>\n",
       "      <td>...</td>\n",
       "      <td>...</td>\n",
       "    </tr>\n",
       "    <tr>\n",
       "      <th>295539.0</th>\n",
       "      <td>False</td>\n",
       "      <td>Saw Charlotte's profile and ad and was intrigu...</td>\n",
       "    </tr>\n",
       "    <tr>\n",
       "      <th>295540.0</th>\n",
       "      <td>True</td>\n",
       "      <td>She's a bit older looking than other kgirls pr...</td>\n",
       "    </tr>\n",
       "    <tr>\n",
       "      <th>295541.0</th>\n",
       "      <td>False</td>\n",
       "      <td>I've sat with Ginger before while waiting for ...</td>\n",
       "    </tr>\n",
       "    <tr>\n",
       "      <th>295542.0</th>\n",
       "      <td>False</td>\n",
       "      <td>Typical two call system. She stays in a lower ...</td>\n",
       "    </tr>\n",
       "    <tr>\n",
       "      <th>295543.0</th>\n",
       "      <td>False</td>\n",
       "      <td>Mamasan texted me said there is a new girl in ...</td>\n",
       "    </tr>\n",
       "    <tr>\n",
       "      <th>295544.0</th>\n",
       "      <td>False</td>\n",
       "      <td>Storm is a great girl with a wonderful attitud...</td>\n",
       "    </tr>\n",
       "    <tr>\n",
       "      <th>295545.0</th>\n",
       "      <td>False</td>\n",
       "      <td>She an ok provider if she your type go ahead b...</td>\n",
       "    </tr>\n",
       "    <tr>\n",
       "      <th>295546.0</th>\n",
       "      <td>False</td>\n",
       "      <td>Wanted to see a new spinner and saw this ad po...</td>\n",
       "    </tr>\n",
       "    <tr>\n",
       "      <th>295547.0</th>\n",
       "      <td>False</td>\n",
       "      <td>Was staying at the GJ so decided to call the b...</td>\n",
       "    </tr>\n",
       "    <tr>\n",
       "      <th>295548.0</th>\n",
       "      <td>False</td>\n",
       "      <td>Saw Brittanys ad a few times and finally pulle...</td>\n",
       "    </tr>\n",
       "    <tr>\n",
       "      <th>295549.0</th>\n",
       "      <td>False</td>\n",
       "      <td>Never seen her ad so I decided to take one for...</td>\n",
       "    </tr>\n",
       "    <tr>\n",
       "      <th>295551.0</th>\n",
       "      <td>False</td>\n",
       "      <td>TOFT here. I've been trolling for some cheaper...</td>\n",
       "    </tr>\n",
       "    <tr>\n",
       "      <th>295552.0</th>\n",
       "      <td>True</td>\n",
       "      <td>This is a very special provider..she said she ...</td>\n",
       "    </tr>\n",
       "    <tr>\n",
       "      <th>295553.0</th>\n",
       "      <td>False</td>\n",
       "      <td>Her pics are intriguing but turns out she's no...</td>\n",
       "    </tr>\n",
       "    <tr>\n",
       "      <th>295554.0</th>\n",
       "      <td>False</td>\n",
       "      <td>Sexy voluptuous woman. Her photos are real and...</td>\n",
       "    </tr>\n",
       "    <tr>\n",
       "      <th>295555.0</th>\n",
       "      <td>False</td>\n",
       "      <td>Ok, I don''t know if I should be considered ad...</td>\n",
       "    </tr>\n",
       "    <tr>\n",
       "      <th>295556.0</th>\n",
       "      <td>False</td>\n",
       "      <td>Found her add... Exchanged a few emails and ev...</td>\n",
       "    </tr>\n",
       "    <tr>\n",
       "      <th>295557.0</th>\n",
       "      <td>False</td>\n",
       "      <td>Chelsea is that girl I've been looking for, fo...</td>\n",
       "    </tr>\n",
       "    <tr>\n",
       "      <th>295558.0</th>\n",
       "      <td>False</td>\n",
       "      <td>Her pics were not really her, but they were a ...</td>\n",
       "    </tr>\n",
       "    <tr>\n",
       "      <th>295559.0</th>\n",
       "      <td>False</td>\n",
       "      <td>Need a massage and was hoping to have fun too....</td>\n",
       "    </tr>\n",
       "    <tr>\n",
       "      <th>295560.0</th>\n",
       "      <td>False</td>\n",
       "      <td>I texted back and forth with Karmen and decide...</td>\n",
       "    </tr>\n",
       "    <tr>\n",
       "      <th>295561.0</th>\n",
       "      <td>False</td>\n",
       "      <td>I saw Ashley's ads popping up for a few days i...</td>\n",
       "    </tr>\n",
       "    <tr>\n",
       "      <th>295562.0</th>\n",
       "      <td>True</td>\n",
       "      <td>On the way home had to bust... What better pla...</td>\n",
       "    </tr>\n",
       "    <tr>\n",
       "      <th>295563.0</th>\n",
       "      <td>False</td>\n",
       "      <td>was going west...had texted Brittany before......</td>\n",
       "    </tr>\n",
       "    <tr>\n",
       "      <th>295564.0</th>\n",
       "      <td>False</td>\n",
       "      <td>I have been wanting to see Brooke for a while ...</td>\n",
       "    </tr>\n",
       "    <tr>\n",
       "      <th>295565.0</th>\n",
       "      <td>False</td>\n",
       "      <td>Jordan is curvy, she has a captivating smile, ...</td>\n",
       "    </tr>\n",
       "    <tr>\n",
       "      <th>295566.0</th>\n",
       "      <td>False</td>\n",
       "      <td>Saw ad on another site. The photos were gorgeo...</td>\n",
       "    </tr>\n",
       "    <tr>\n",
       "      <th>295567.0</th>\n",
       "      <td>False</td>\n",
       "      <td>Regular two call system, got the location text...</td>\n",
       "    </tr>\n",
       "    <tr>\n",
       "      <th>295568.0</th>\n",
       "      <td>False</td>\n",
       "      <td>So Ive started noticing more and more great re...</td>\n",
       "    </tr>\n",
       "    <tr>\n",
       "      <th>295569.0</th>\n",
       "      <td>False</td>\n",
       "      <td>She shares a place with another provide I have...</td>\n",
       "    </tr>\n",
       "  </tbody>\n",
       "</table>\n",
       "<p>217349 rows × 2 columns</p>\n",
       "</div>"
      ],
      "text/plain": [
       "                ht                                             detail\n",
       "provider_id                                                          \n",
       "1.0          False  First she asked for more money. Then just danc...\n",
       "3.0          False  Wendy is older than most people in the busines...\n",
       "4.0          False  Nice looking \"natural\" girl. She provided what...\n",
       "6.0          False  She is a very nice girl. The picture I don't t...\n",
       "7.0           True  Madison provides a nice relaxing atmosphere wi...\n",
       "8.0          False  I arrived in an average looking appartment wit...\n",
       "9.0          False  She could have been more into what she was doi...\n",
       "12.0         False  She was nice but she seemed like she was a lit...\n",
       "13.0          True  Had seen some mixed reviews, but my sense was ...\n",
       "14.0         False  I went to her place near Hollywood. I was plea...\n",
       "18.0         False  This girl is gourgeous! We spent some time tal...\n",
       "20.0         False  After two visits that started on time and ende...\n",
       "21.0          True  Not my first time with Nikki and certainly not...\n",
       "22.0         False  I decided to see Sydney after seeing her ad on...\n",
       "23.0         False  cute girl with standard fbsm service. She was ...\n",
       "26.0         False  House should be condemed,Uses Massage table, S...\n",
       "28.0         False  Mixed review here. Says she's 19 and really se...\n",
       "29.0          True  She is quite pleasant, very accommidating and ...\n",
       "30.0         False  I used to see Angela before she moved to Hillc...\n",
       "32.0         False  Franchesca is a nice person, but she is a litt...\n",
       "34.0         False  Decent looking woman. Nice massage but nothing...\n",
       "36.0         False  Total rippoff scam. She lies to you and tells ...\n",
       "39.0         False  I was struck by Rachel's pictures on her Eros ...\n",
       "41.0         False  Pictures are slightly different but she is bea...\n",
       "42.0          True  we started out just talking for a while and th...\n",
       "43.0         False  Nice Westwood location, pictures are her but o...\n",
       "44.0         False  No messing around with Jackie, straight to the...\n",
       "45.0         False  This lady is a complete rip off. Don't waiste ...\n",
       "46.0          True  This is another Thatmall girl whose photos wer...\n",
       "47.0         False  Ashley sets up the date with email and does no...\n",
       "...            ...                                                ...\n",
       "295539.0     False  Saw Charlotte's profile and ad and was intrigu...\n",
       "295540.0      True  She's a bit older looking than other kgirls pr...\n",
       "295541.0     False  I've sat with Ginger before while waiting for ...\n",
       "295542.0     False  Typical two call system. She stays in a lower ...\n",
       "295543.0     False  Mamasan texted me said there is a new girl in ...\n",
       "295544.0     False  Storm is a great girl with a wonderful attitud...\n",
       "295545.0     False  She an ok provider if she your type go ahead b...\n",
       "295546.0     False  Wanted to see a new spinner and saw this ad po...\n",
       "295547.0     False  Was staying at the GJ so decided to call the b...\n",
       "295548.0     False  Saw Brittanys ad a few times and finally pulle...\n",
       "295549.0     False  Never seen her ad so I decided to take one for...\n",
       "295551.0     False  TOFT here. I've been trolling for some cheaper...\n",
       "295552.0      True  This is a very special provider..she said she ...\n",
       "295553.0     False  Her pics are intriguing but turns out she's no...\n",
       "295554.0     False  Sexy voluptuous woman. Her photos are real and...\n",
       "295555.0     False  Ok, I don''t know if I should be considered ad...\n",
       "295556.0     False  Found her add... Exchanged a few emails and ev...\n",
       "295557.0     False  Chelsea is that girl I've been looking for, fo...\n",
       "295558.0     False  Her pics were not really her, but they were a ...\n",
       "295559.0     False  Need a massage and was hoping to have fun too....\n",
       "295560.0     False  I texted back and forth with Karmen and decide...\n",
       "295561.0     False  I saw Ashley's ads popping up for a few days i...\n",
       "295562.0      True  On the way home had to bust... What better pla...\n",
       "295563.0     False  was going west...had texted Brittany before......\n",
       "295564.0     False  I have been wanting to see Brooke for a while ...\n",
       "295565.0     False  Jordan is curvy, she has a captivating smile, ...\n",
       "295566.0     False  Saw ad on another site. The photos were gorgeo...\n",
       "295567.0     False  Regular two call system, got the location text...\n",
       "295568.0     False  So Ive started noticing more and more great re...\n",
       "295569.0     False  She shares a place with another provide I have...\n",
       "\n",
       "[217349 rows x 2 columns]"
      ]
     },
     "execution_count": 9,
     "metadata": {},
     "output_type": "execute_result"
    }
   ],
   "source": [
    "vgroupinfo"
   ]
  },
  {
   "cell_type": "code",
   "execution_count": 12,
   "metadata": {
    "collapsed": true
   },
   "outputs": [],
   "source": [
    "# balanced data group,\n",
    "def split_data_bala(df,poratio = 0.2,neratio = 0.01,neratio_train=0.03):\n",
    "    '''\n",
    "        @df: Dataframe of pre-processed data\n",
    "        @poratio: test set ratio in whole positive samples, then (1-poratio) would be train ratio\n",
    "        @neratio: test set ratio in whole negative samples\n",
    "        @neratio_train: train set ratio in whole negatives samples. \n",
    "        we need to make sure the numbers of positive and negatives samples are close in both train and test dataset.\n",
    "        @return: X_train, X_test, Y_train, Y_test\n",
    "    '''\n",
    "    poindex = np.array(df[df['ht'] == 1].index)\n",
    "    neindex = np.array(df[df['ht'] == 0].index)\n",
    "    np.random.shuffle(poindex)\n",
    "    np.random.shuffle(neindex)\n",
    "    npotest = int(np.ceil(len(poindex)*poratio))\n",
    "    nnetest = int(np.ceil(len(neindex)*neratio))\n",
    "    npotrain = int(np.ceil(len(poindex)*(1-poratio)))\n",
    "    nnetrain = int(np.ceil(len(neindex)*(1-poratio)*neratio_train))\n",
    "    X_test = pd.concat([df.loc[poindex[:npotest],'detail'],df.loc[neindex[:nnetest],'detail']])\n",
    "    Y_test = pd.concat([df.loc[poindex[:npotest],'ht'],df.loc[neindex[:nnetest],'ht']])\n",
    "    X_train = pd.concat([df.loc[poindex[npotest:npotest+npotrain],'detail'],df.loc[neindex[nnetest:nnetest+nnetrain],'detail']])\n",
    "    Y_train = pd.concat([df.loc[poindex[npotest:npotest+npotrain],'ht'],df.loc[neindex[nnetest:nnetest+nnetrain],'ht']])\n",
    "    return X_train, X_test, Y_train, Y_test\n",
    "\n",
    "#unbalanced data\n",
    "def split_data(df,ratio = 0.25):\n",
    "    '''\n",
    "        @ratio: test set ratio in whole dataset, the data would be unbalanced\n",
    "    '''\n",
    "    X_train, X_test, Y_train, Y_test = train_test_split(df['detail'],df['ht'],test_size =ratio)\n",
    "    return X_train, X_test, Y_train, Y_test"
   ]
  },
  {
   "cell_type": "code",
   "execution_count": 34,
   "metadata": {
    "collapsed": true
   },
   "outputs": [],
   "source": [
    "# choose balanced or unbalanced data\n",
    "X_train, X_test, Y_train, Y_test = split_data_bala(vgroupinfo)"
   ]
  },
  {
   "cell_type": "code",
   "execution_count": 35,
   "metadata": {},
   "outputs": [
    {
     "name": "stdout",
     "output_type": "stream",
     "text": [
      "14803\n",
      "3701\n",
      "4773\n",
      "1989\n"
     ]
    }
   ],
   "source": [
    "# show the numbers of positive and negative samples in train and test dataset\n",
    "print(len(Y_train[Y_train == 1]))\n",
    "print(len(Y_test[Y_test == 1]))\n",
    "print(len(Y_train[Y_train == 0]))\n",
    "print(len(Y_test[Y_test == 0]))"
   ]
  },
  {
   "cell_type": "code",
   "execution_count": 36,
   "metadata": {
    "collapsed": true
   },
   "outputs": [],
   "source": [
    "# Vectorize word by different methods: CountVectorizer would only consider the word frequency, while the TfidfVectorizer would also consider the frequency in documents\n",
    "CV = CountVectorizer(ngram_range = (1,2),stop_words='english')\n",
    "XCVtrain = CV.fit_transform(X_train.tolist())\n",
    "XCVtest = CV.transform(X_test.tolist())\n",
    "# TV = TfidfVectorizer(ngram_range = (1,2), stop_words='english')\n",
    "# XCVtrain = TV.fit_transform(X_train.tolist())\n",
    "# XCVtest = TV.transform(X_test.tolist())"
   ]
  },
  {
   "cell_type": "code",
   "execution_count": 38,
   "metadata": {
    "collapsed": true
   },
   "outputs": [],
   "source": [
    "# transfer data to DMatrix, the data structure used in xgboost\n",
    "dtrain = xgb.DMatrix(XCVtrain, label=Y_train.tolist())\n",
    "dtest = xgb.DMatrix(XCVtest, label=Y_test.tolist())"
   ]
  },
  {
   "cell_type": "code",
   "execution_count": 39,
   "metadata": {
    "collapsed": true
   },
   "outputs": [],
   "source": [
    "#choose parameters of xgboost.\n",
    "param = {'max_depth': 5, 'eta': 0.01, 'objective': 'binary:logistic'}\n",
    "param['eval_metric'] = ['auc', 'error']\n",
    "plst = param.items()\n",
    "num_round = 50"
   ]
  },
  {
   "cell_type": "code",
   "execution_count": 40,
   "metadata": {},
   "outputs": [
    {
     "data": {
      "text/plain": [
       "'[0]\\teval-auc:0.753387\\teval-error:0.320211'"
      ]
     },
     "execution_count": 40,
     "metadata": {},
     "output_type": "execute_result"
    }
   ],
   "source": [
    "# train the model\n",
    "bst = xgb.train(param, dtrain, num_round)\n",
    "bst.eval(dtest)"
   ]
  },
  {
   "cell_type": "code",
   "execution_count": 27,
   "metadata": {},
   "outputs": [
    {
     "data": {
      "text/plain": [
       "'[0]\\teval-auc:0.757409\\teval-error:0.081858'"
      ]
     },
     "execution_count": 27,
     "metadata": {},
     "output_type": "execute_result"
    }
   ],
   "source": [
    "#unbalanced\n",
    "bst = xgb.train(param, dtrain, num_round)\n",
    "bst.eval(dtest)"
   ]
  },
  {
   "cell_type": "code",
   "execution_count": 28,
   "metadata": {},
   "outputs": [
    {
     "data": {
      "text/plain": [
       "array([0.33053464, 0.33053464, 0.31878155, ..., 0.3165986 , 0.3610102 ,\n",
       "       0.32452244], dtype=float32)"
      ]
     },
     "execution_count": 28,
     "metadata": {},
     "output_type": "execute_result"
    }
   ],
   "source": [
    "ypred = bst.predict(dtest)\n",
    "ypred"
   ]
  },
  {
   "cell_type": "code",
   "execution_count": 32,
   "metadata": {
    "scrolled": true
   },
   "outputs": [
    {
     "data": {
      "image/png": "[encoded data removed]",
      "text/plain": [
       "<matplotlib.figure.Figure at 0x133ede0f0>"
      ]
     },
     "metadata": {},
     "output_type": "display_data"
    }
   ],
   "source": [
    "# show the feature importance by gain or weight\n",
    "xgb.plot_importance(bst,importance_type='gain')\n",
    "plt.show()"
   ]
  },
  {
   "cell_type": "code",
   "execution_count": null,
   "metadata": {
    "collapsed": true
   },
   "outputs": [],
   "source": [
    "# tune parameters, which costs much time. If you just want to train data and test performance, don't run this cell.\n",
    "param_test1 = {\n",
    " 'max_depth':[3,5,7,9],\n",
    " 'n_estimators': [50,150,300]\n",
    "}\n",
    "gsearch1 = GridSearchCV(estimator = XGBClassifier(learning_rate =0.01, n_estimators=140, max_depth=5,\n",
    "min_child_weight=1, gamma=0, subsample=0.8,colsample_bytree=0.8,\n",
    " objective= 'binary:logistic', nthread=8,  scale_pos_weight=1, seed=27), \n",
    "param_grid = param_test1, scoring='roc_auc',n_jobs=4,iid=False, cv=3)\n",
    "\n",
    "gsearch1.fit(XCVtrain,Y_train)\n",
    "#gsearch1.grid_scores_, gsearch1.best_params_, gsearch1.best_score_"
   ]
  }
 ],
 "metadata": {
  "kernelspec": {
   "display_name": "Python 3",
   "language": "python",
   "name": "python3"
  },
  "language_info": {
   "codemirror_mode": {
    "name": "ipython",
    "version": 3
   },
   "file_extension": ".py",
   "mimetype": "text/x-python",
   "name": "python",
   "nbconvert_exporter": "python",
   "pygments_lexer": "ipython3",
   "version": "3.6.1"
  }
 },
 "nbformat": 4,
 "nbformat_minor": 2
}
